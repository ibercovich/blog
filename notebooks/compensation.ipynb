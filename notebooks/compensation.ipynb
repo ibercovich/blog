{
 "cells": [
  {
   "cell_type": "markdown",
   "metadata": {},
   "source": [
    "# Startup Compensation #\n",
    "\n",
    "In the startup world, many conversations stall while discussing compensation. This is unsurprising, given that the upside is composed of cash, stock options, growth prospects, and possibly a bespoke role. As an investor, I find myself stepping in as the matchmaker to overcome this final hurdle and get to a mutually agreed offer. To make this process more repeatable, I have come up with a simple framework to facilitate compensation discussions.\n",
    "\n",
    "## Framework ##\n",
    "\n",
    "The following steps should be followed by both parties and then used to reach a middle ground. First, we define some input variables.\n",
    "\n",
    "**Cash Equivalent**: how much should the person get paid if it was 100% cash (or cash + publicly traded shares with some margin of error for the latter). It’s important to be as realistic as possible here. For the candidate, the best proxy is current salary or total cash salary from other offers. For employers, use something like Levels.fyi to get a sense of what large public companies are paying for a role. Also keep in mind both the compensation for the role as defined (e.g. engineer with 3 years of experience) and the specific candidate you’re interviewing (e.g. sr. engineer with 7 years of experience), with the latter being more relevant.\n",
    "\n",
    "**Enterprise Value**: since the offer will include options, it’s important to value the company. The simplest approach is to look at valuation as of the last fundraising event. An appropriate valuation for common shares would be the most recent strike price for options, determined by a third party 409A consultant (usually 25%-50% of preferred value), which takes into account issues like illiquidity. Companies should be prepared to share enough information for prospective candidates to make their assessment, or risk losing savvy individuals.\n",
    "\n",
    "**Salary**: candidates interested in startups should be prepared to take a significantly lower paycheck. Some companies offer different packages depending on the candidate’s appetite for risk, but most startups tend to lean one way or another, with earlier stages leaning towards more equity. The idea is to shift some degree of compensation to options so that interests are aligned, while allowing for a reasonable lifestyle. It’s not uncommon for a valuable employee to have a higher salary than the founders who are very focused on capital gains.\n",
    "\n",
    "**Example**: Let's assume someone is making $200k as an engineer at a publicly traded company, taking a combination of $150k cash and $50k public stock RSUs, during stable market conditions, so RSUs ~== cash. They are getting an offer from an early stage startup that includes options over a 4 year vesting period. The candidate is willing to decrease their paycheck to $100k. The company recently raised money at a $25M valuation and their most recent 409A fair market value was $12.5M (50%). All parties are optimisitic about the prospects of the company growing 2x YoY for the next 4 years."
   ]
  },
  {
   "cell_type": "markdown",
   "metadata": {},
   "source": []
  },
  {
   "cell_type": "code",
   "execution_count": 104,
   "metadata": {},
   "outputs": [
    {
     "name": "stdout",
     "output_type": "stream",
     "text": [
      "0.85%\n"
     ]
    }
   ],
   "source": [
    "import numpy as np\n",
    "\n",
    "def get_options(\n",
    "    cash_equivalent = 200_000,\n",
    "    vesting_years = 4,\n",
    "    fmv = 12_500_000,\n",
    "    exp_growth = 2, #grow 2x YoY for the vesting period\n",
    "    desired_salary = 100_000,\n",
    "    ):\n",
    "\n",
    "    total_equivalent = cash_equivalent * vesting_years\n",
    "    avg_enterprise_value = (exp_growth**np.arange(vesting_years)).mean()*fmv\n",
    "    total_cash = desired_salary * vesting_years\n",
    "    total_option_value = total_equivalent - total_cash\n",
    "    grant_percentage = (total_option_value / avg_enterprise_value)*100\n",
    "\n",
    "    return grant_percentage\n",
    "\n",
    "print(f'{get_options():.2f}%')\n"
   ]
  },
  {
   "cell_type": "markdown",
   "metadata": {},
   "source": [
    "We can extend our calculation to show a variety of outcomes as we change growth rate assumptions and the candidate's risk tolerance."
   ]
  },
  {
   "cell_type": "code",
   "execution_count": 108,
   "metadata": {},
   "outputs": [
    {
     "name": "stdout",
     "output_type": "stream",
     "text": [
      "           $50k    $75k    $100k    $125k    $150k    $175k\n",
      "---------  ------  ------  -------  -------  -------  -------\n",
      "1.50x YoY  2.36%   1.97%   1.58%    1.18%    0.79%    0.39%\n",
      "1.75x YoY  1.72%   1.43%   1.15%    0.86%    0.57%    0.29%\n",
      "2.00x YoY  1.28%   1.07%   0.85%    0.64%    0.43%    0.21%\n",
      "2.25x YoY  0.97%   0.81%   0.65%    0.49%    0.32%    0.16%\n",
      "2.50x YoY  0.76%   0.63%   0.50%    0.38%    0.25%    0.13%\n",
      "2.75x YoY  0.60%   0.50%   0.40%    0.30%    0.20%    0.10%\n",
      "3.00x YoY  0.48%   0.40%   0.32%    0.24%    0.16%    0.08%\n"
     ]
    }
   ],
   "source": [
    "import tabulate\n",
    "data = []\n",
    "for growth in np.arange(1.5, 3.25, 0.25):\n",
    "    row = [f'{growth:.2f}x YoY']\n",
    "    headers = []\n",
    "    for cash in np.arange(50_000, 200_000, 25_000):\n",
    "        headers.append(f'${cash/1000:.0f}k')\n",
    "        col = f'{get_options(desired_salary=cash, exp_growth=growth):.2f}%'\n",
    "        row.append(col)\n",
    "    data.append(row)\n",
    "\n",
    "table = tabulate.tabulate(data, headers=headers)\n",
    "print(table)"
   ]
  },
  {
   "cell_type": "markdown",
   "metadata": {},
   "source": [
    "## Conclusion ##\n",
    "\n",
    "That’s basically it. Of course this is an imprecise methodology and participants should make adjustments as warranted by the situation. The candidate might be willing to take the leap in exchange for a higher title or bigger scope– I argue positioning for career growth is far more important than starting compensation.  The company might have reason to believe they will grow faster. The last founding round might have unusual preferences or be led by unsophisticated investors. The founding team might have prior extraordinary success. However, I encourage both parties to keep the calculations as simple as possible, as going much further is likely false precision.\n",
    "\n",
    "Keep in mind that while compensation is very important, it’s not the only factor at play. For me, most of the value of working at a startup came from being part of the journey and growing with the company, which won’t be captured in the offer. Many people who join a startup dream of doing their own one day, and there is nothing like the real thing to develop the right skills. Likewise for founders, the right early employee can add as much value as a co-founder and be pivotal in the eventual success of the company. So in situations where there is a strong fit and mutual interest, I strongly encourage both parties to overcome hurdles and get to business!\n"
   ]
  },
  {
   "cell_type": "code",
   "execution_count": null,
   "metadata": {},
   "outputs": [],
   "source": []
  }
 ],
 "metadata": {
  "kernelspec": {
   "display_name": "Python 3.9.15 ('d2l')",
   "language": "python",
   "name": "python3"
  },
  "language_info": {
   "codemirror_mode": {
    "name": "ipython",
    "version": 3
   },
   "file_extension": ".py",
   "mimetype": "text/x-python",
   "name": "python",
   "nbconvert_exporter": "python",
   "pygments_lexer": "ipython3",
   "version": "3.9.15"
  },
  "orig_nbformat": 4,
  "vscode": {
   "interpreter": {
    "hash": "650d45afb2272f208ff010f0814ed9bc1365e9ffa821d8971ee550879f1654ad"
   }
  }
 },
 "nbformat": 4,
 "nbformat_minor": 2
}
